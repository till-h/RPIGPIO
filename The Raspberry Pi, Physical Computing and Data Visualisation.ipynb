{
 "cells": [
  {
   "cell_type": "markdown",
   "metadata": {},
   "source": [
    "<p align=\"center\">\n",
    "<img src=\"ICAHLOGO.png\" alt=\"ICAHLOGO\" width=\"300\">\n",
    "</p>\n",
    "# Introduction\n",
    "\n",
    "Welcome to this tutorial about the Raspberry Pi microcomputer and its amazing capabilities.\n",
    "This tutorial intends to offer you—\n",
    "1. An overview of Raspberry Pi – one of the most popular microcomputers in use today.\n",
    "2. A toe-dipping introduction to the Python programming language and the Jupyter development environment in which you can write Python programs.\n",
    "3. An understanding of Raspberry Pi's physical pins, which we can use to make it talk to all sorts of electronics – from within our Python programs!\n",
    "4. A neat way to create data visualisation within Python – for all your data plotting needs!\n",
    "\n",
    "It may also be useful as a reference during our hackathon."
   ]
  },
  {
   "cell_type": "markdown",
   "metadata": {},
   "source": [
    "# An overview of Raspberry Pi (RPi)\n",
    "\n",
    "\n",
    "## <a name=\"rpi1\"></a> What is it?\n",
    "\n",
    "Raspberry Pi is a small computer the size of a credit card that you can plug into a monitor, keyboard and mouse. You can use it in the same way as you would use your desktop PC or laptop. You can generate spreadsheets, do word processing, browse the internet, and play games. It also plays high-definition video.\n",
    "\n",
    "However, what will make it interesting for us is its capability for use in electronics projects! The main aim of the Raspberry Pi is to teach anyone how to use programming and electronics to realise their ideas. Raspberry Pi comes with a free Linux operating system that runs from an SD card, and it is simply powered by a USB phone charger.\n",
    "\n",
    "<p align=\"center\">\n",
    "<img src=\"pi3card.png\" alt=\"rpicard\" width=\"300\">\n",
    "</p>\n",
    "\n",
    "## <a name=\"rpi2\"></a> Models of Raspberry Pi\n",
    "\n",
    "Since its original launch in 2012, various models of Raspberry Pi have appeared.\n",
    "\n",
    "<p align=\"center\">\n",
    "<img src=\"raspberry-pi-products.jpg\" alt=\"rpiproducts\" width=\"600\">\n",
    "</p>\n",
    "\n",
    "All of them have different hardware specifications.\n",
    "\n",
    "<p align=\"center\">\n",
    "<img src=\"RPIspecific.png\" alt=\"specifications\" width=\"600\">\n",
    "</p>\n",
    "\n",
    "We will be working with the **RPi 3 Model B** and **RPi Zero W**, which were launched in 2016 and 2017. The RPi 3 Model B is based around a 1.2 GHz 64-bit quad-core ARM Cortex-A53 processor, has 1GB of RAM, while the smaller and cheaper Zero W is based on a 1 GHz single-core ARM1176JZF-S processor with 512GB RAM. Both have 802.11n Wireless and Bluetooth 4.1 included on the chip. Look at them – all of this is included in those black chips soldered onto the boards! That's also why we call these little wonders \"System on a Chip\" – the entire computer system resides in silicon.\n",
    "\n",
    "\n",
    "## <a name=\"rpi3\"></a> Physical layout of Raspberry Pi\n",
    "\n",
    "<p align=\"center\">\n",
    "<img src=\"RPI3B.jpeg\" alt=\"Raspberry Pi 3 Model B\" width=\"400\">\n",
    "</p>\n",
    "\n",
    "The above picture shows a Raspberry Pi 3. On the right-hand side, you have four **USB ports** and one **Ethernet** port. Next to the USB ports, there is a **USB/Ethernet Controller**, which translates data between the ports and the main processor, because the processor itself doesn't understand the USB or Ethernet protocol. At the top, you can find the **General Purpose Input/Output (GPIO) pins** (40 of them to be precise). Down the bottom middle is the **CSI (Camera Serial Interface) connector**, which allows you to connect mobile-phone-style cameras directly to the Pi. Of course, you also have the option to connect a webcam via USB. At the right-hand side, you can find a **DSI (Display Serial Interface) connector** that you can use to connect an LCD screen. At the bottom, you can find the **HDMI port**, which allows you to connect the Pi straight into a monitor. Next to this port, you can see the **USB power connector** and also an **audio port**. The back side of the Pi houses a micro SD card slot for the SD card containing the operating system and user data – just like a classical hard disk.\n",
    "\n",
    "The second image shows the layout of a Raspberry Pi Zero W, which is the board that most of you will work with in this tutorial.\n",
    "\n",
    "<p align=\"center\">\n",
    "<img src=\"RaspberryPiZeroWLayout.png\" alt=\"Raspberry Pi Zero W Layout\" width=\"400\">\n",
    "</p>\n",
    "\n",
    "Again, at the top of the board there are 40 **General Purpose Input/Output (GPIO) pins**. The arrangement of these pins is exactly the same as on the Pi 3. This allows us to use the boards practially interchangeably. The Pi Zero W has a different (slightly less powerful) **processor**, and offers connectivity through a **mini HDMI** and a single **micro USB** port, both placed at the bottom of the board. The distinguishing feature of the Pi Zero W is its built-in Wifi and Bluetooth connectivity, which is housed in the **WLAN/Bluetooth controller**.\n",
    "\n",
    "## Important Note\n",
    "\n",
    "Before we continue, please be aware of the following limitations when using your Raspberry Pi.\n",
    "\n",
    "* Always make sure you supply only 5V to the RPi.\n",
    "* Unlike Arduino, RPi does not have over-voltage protection on the board (yet), so be careful when making GPIO connections.\n",
    "* Never connect more than a potential difference of 3.3V to the GPIO pins (for example, when using sensors to feed data into the Pi).\n",
    "* Never demand that any GPIO pin source or sink more than 16mA.\n",
    "* Pins can only supply a maximum current of 50mA.\n",
    "\n",
    "During this workshop, if you are unsure about connecting something new to your Raspberry Pi (particularly anything feeding a voltage or a current into it), do come and ask one of us mentors first – it might prevent your board from frying! Let us now consider what we _can_ do with those pins!\n",
    "\n",
    "## <a name=\"rpi6\"></a> General Purpose I/O Pins (GPIO)\n",
    "\n",
    "Your Raspberry Pi is more than just a small computer; it is a hardware prototyping tool! The RPi has **bi-directional I/O pins**, which you can use to drive LEDs, spin motors, or read button presses. Using these pins requires a bit or programming. While you can use a [variety of programming languages](http://elinux.org/RPi_Low-level_peripherals#GPIO_Code_examples) to \"do\" GPIO, we will use a reliable, easy-to-use language throughout this hackathon: **Python**.\n",
    "\n",
    "###  GPIO Pinout\n",
    "\n",
    "As we saw above, the GPIO is arranged as a header of 40 electrical pins, which makes it easy to connect it with an external circuit, using jumper wires. From the first models to the latest, the header has expanded from 26 pins to 40 pins while maintaining the original pinout.\n",
    "\n",
    "<p align=\"center\">\n",
    "<img src=\"rpi_old_new_pin.jpg\" alt=\"rpi\" width=\"500\">\n",
    "</p>\n",
    "\n",
    "There are (at least) two, different numbering schemes you may encounter when referencing **Pi pin numbers**:\n",
    "\n",
    "1. **Broadcom chip-specific** pin numbers – looking at the pins from the processor's perspective.\n",
    "2. **P1 physical** pin numbers – looking at the pins from the user's perspective, much like house numbers along street.\n",
    "\n",
    "You can use either number-system, but when you are programming the pins in Python, you need to declare which scheme you are using at the very beginning of your program. We will see this later.\n",
    "\n",
    "The following table shows all 40 pins on the header, including any particular function they may have, and their dual numbers. _Pin#_ refers to the P1 physical numbering, and _NAME_ to the Broadcom-specific numbering.\n",
    "\n",
    "<p align=\"center\">\n",
    "<img src=\"header_pinout.jpg\" alt=\"pin\" width=\"500\">\n",
    "</p>\n",
    "\n",
    "The following table highlights these numbering schemes again. The **P1 physical numbering** is shaded blue, and **Broadcom chip-specific** numbers are shaded red. You can safely ignore the other columns (there are probably as many ways to count these pins as there are number systems).\n",
    "\n",
    "<p align=\"center\">\n",
    "<img src=\"RPIGPIOLayoutTable.png\" alt=\"pin\" width=\"500\">\n",
    "</p>\n",
    "\n",
    "The table also shows the additional data protocols that can be accessed through some of the GPIO pins: [Serial (UART)](https://learn.sparkfun.com/tutorials/serial-communication), [I2C](https://learn.sparkfun.com/tutorials/i2c), [SPI](https://learn.sparkfun.com/tutorials/serial-peripheral-interface-spi), Pulse width modulation ([PWM](https://learn.sparkfun.com/tutorials/pulse-width-modulation). We will actually use the I2C protocol to control an external circuit board for DC motors later.\n",
    "\n",
    "However, before we get to that, we need to learn the basics of Python programming."
   ]
  },
  {
   "cell_type": "markdown",
   "metadata": {},
   "source": [
    "# Programming in Python and Jupyter\n",
    "\n",
    "Python as a programming language has been around since around 1985 and is actually a Dutch invention. Below is a picture of its original creator Guido van Rossum. To this date, he is very much involved in setting the overall direction for the ongoing development work of Python.\n",
    "\n",
    "<p align=\"center\">\n",
    "<img src=\"1200px-Guido_van_Rossum_OSCON_2006.jpg\" alt=\"pin\" width=\"300\">\n",
    "</p>\n",
    "\n",
    "That aside, Python really started as an educational programming language, and is widely regarded as easy to learn. I very much hope you'll see why soon!\n",
    "\n",
    "## The Jupyter Notebook\n",
    "\n",
    "Every programming language comes with some preferred tools for developing programs in. When it comes to writing computer programs in Python, the **Jupyter Notebook** is one such really useful tool.\n",
    "\n",
    "In a nutshell, it is an interactive prompt that runs in your browser and in which you can write python programs, execute them and immediately see the results.\n",
    "\n",
    "To start a notebook session, you need to open a terminal window by clicking the terminal icon near the top left corner of your desktop, as shown.\n",
    "\n",
    "<p align=\"center\">\n",
    "<img src=\"RaspberryPiDesktopWithTerminalArrow.png\" alt=\"The terminal\" width=\"100%\">\n",
    "</p>\n",
    "\n",
    "Terminals are another very useful tool in Linux (and many of you may have come across them in your research). They essentially allow controlling the computer by typing text commands into a prompt and pressing Enter.\n",
    "\n",
    "In our case, type `jupyter notebook` and press Enter. After a moment, a Chromium session opens up, which shows the **Jupyter file explorer**.\n",
    "\n",
    "<p align=\"center\">\n",
    "<img src=\"JupyterFileExplorer.png\" alt=\"Jupyter File Explorer\" width=\"100%\">\n",
    "</p>\n",
    "\n",
    "In the top right-hand corner of the file explorer, click on `New ▼`, and then `Python 3`. This will open a notebook in a new tab.\n",
    "\n",
    "### Working with Notebooks\n",
    "\n",
    "When first opening a new notebook, this is how it looks.\n",
    "\n",
    "<p align=\"center\">\n",
    "<img src=\"JupyterNotebookAnnotated.png\" alt=\"pin\" width=\"100%\">\n",
    "</p>\n",
    "\n",
    "The notebook consists of a **Menu** bar and a **Command palette** on top, and below these, the cursor is positioned in the first **Cell** of the notebook. This is where you will enter your Python code. A notebook can contain several cells and you can think of them as a neat way to group related bits of code together. You can add new cells by clicking the `insert cell below` button. Whichever cell you click on becomes the active cell, marked by the blinking cursor, and a thick vertical bar on the left.\n",
    "\n",
    "In order to execute the code in the active cell, you press the `run cell, select below` button. The following two Jupyter shortcuts are handy:\n",
    "\n",
    "| Shortcut      | Action     | \n",
    "| ------------- |:-------------| \n",
    "| CTRL+Enter    | Execute the current cell| \n",
    "| Shift+Enter   | Execute the current cell and move focus to the next one / create a following cell if none exists |  "
   ]
  },
  {
   "cell_type": "markdown",
   "metadata": {},
   "source": [
    "## Basic Python: Variables, Operators, Data Types\n",
    "\n",
    "Most programming languages hold data in variables. Just like in Mathematics, variables in Python are a convenient way to refer to a quantity through a memorable name.\n",
    "\n",
    "You can try this out in your notebook:"
   ]
  },
  {
   "cell_type": "code",
   "execution_count": 1,
   "metadata": {
    "collapsed": true
   },
   "outputs": [],
   "source": [
    "number_of_hands = 2 # Hold the value 2 in a variable called \"x\"\n",
    "fingers_per_hand = 5 # Hold the value 3 in a variable called \"y\"\n",
    "number_of_fingers = number_of_hands * fingers_per_hand # The variable \"number_of_fingers\" now has the value 10"
   ]
  },
  {
   "cell_type": "markdown",
   "metadata": {},
   "source": [
    "Programming languages use different **data types** for different types of data. It's horses for courses with this, and unsurprisingly Python supports text, integers, floating point and Boolean data, to name a few.\n",
    "\n",
    "Let's try this out! In your notebook, type the following:"
   ]
  },
  {
   "cell_type": "code",
   "execution_count": 2,
   "metadata": {},
   "outputs": [
    {
     "name": "stdout",
     "output_type": "stream",
     "text": [
      "1\n",
      "Hello World!\n",
      "False\n"
     ]
    }
   ],
   "source": [
    "x  = 1\n",
    "some_text = \"Hello World!\"\n",
    "some_boolean = False\n",
    "print(x)\n",
    "print(some_text)\n",
    "print(some_boolean)"
   ]
  },
  {
   "cell_type": "markdown",
   "metadata": {},
   "source": [
    "The first three lines assign values to three variables called `x`, `some_text`, `some_boolean`, and the last three lines use Python's built-in `print` function that prints them out. When you've typed this into a cell, press the `run cell, select below` button.\n",
    "\n",
    "We can perform mathematical calculations in Python using the basic operators +, -, \\*, /, \\*\\*, %. Try it out in your notebook (no need to use the print function in this case):"
   ]
  },
  {
   "cell_type": "code",
   "execution_count": 3,
   "metadata": {},
   "outputs": [
    {
     "data": {
      "text/plain": [
       "3"
      ]
     },
     "execution_count": 3,
     "metadata": {},
     "output_type": "execute_result"
    }
   ],
   "source": [
    "4 + 5\n",
    "4 - 3\n",
    "2 * 3\n",
    "3 / 4\n",
    "2 ** 3\n",
    "10 % 7 # Returns the remainder of a division"
   ]
  },
  {
   "cell_type": "markdown",
   "metadata": {},
   "source": [
    "In Python, the [standard order of operations](https://en.wikibooks.org/wiki/Python_Programming/Basic_Math) is from left to right, and respects the mathematical precedence of operations (memorised by many as PEMDAS):\n",
    "\n",
    "| Name        | Syntax     | Description  |\n",
    "| ------------- |:-------------:| :-----|\n",
    "| **P**arentheses     | ( ... ) | Happening before operating on anything else.|\n",
    "| **E**xponents     | **  |  Exponents are evaluated before multiplication and division. |\n",
    "| **M**ultiplication and **D**ivision | * / |  Multiplication is rapid addition and must happen first. |\n",
    "| **A**ddition and **S**ubtraction | + -  |     |\n",
    "\n",
    "Let's try it:"
   ]
  },
  {
   "cell_type": "code",
   "execution_count": 4,
   "metadata": {},
   "outputs": [
    {
     "data": {
      "text/plain": [
       "'abcfgb'"
      ]
     },
     "execution_count": 4,
     "metadata": {},
     "output_type": "execute_result"
    }
   ],
   "source": [
    "3 / 4 * 5  # First division and then multiplication\n",
    "3.0 / 4 * 5\n",
    "(3.0 / 4) * 4\n",
    "2 ** 8\n",
    "10 % 7 # Remainder of a division\n",
    "'abc' + 'fgb' # This is how you concatenate two strings"
   ]
  },
  {
   "cell_type": "markdown",
   "metadata": {},
   "source": [
    "The following table lists Python's comparison operators:\n",
    "\n",
    "| Name        | Syntax     |\n",
    "| :-------------: |:-------------|\n",
    "| < | Less than|\n",
    "| > | Greater than|\n",
    "| <=| Less than or equal to|\n",
    "|>=\t| Greater than or equal to|\n",
    "|==\t| Equal to|\n",
    "|!=\t| Not equal to|\n",
    "\n",
    "You can check how these work in your notebook:"
   ]
  },
  {
   "cell_type": "code",
   "execution_count": 5,
   "metadata": {},
   "outputs": [
    {
     "data": {
      "text/plain": [
       "True"
      ]
     },
     "execution_count": 5,
     "metadata": {},
     "output_type": "execute_result"
    }
   ],
   "source": [
    "2 == 3\n",
    "3 == 3\n",
    "2 < 3\n",
    "True == (False != True)"
   ]
  },
  {
   "cell_type": "markdown",
   "metadata": {},
   "source": [
    "The output will be\n",
    "\n",
    "``` python\n",
    "False\n",
    "True\n",
    "False\n",
    "True # Can you explain this?\n",
    "```"
   ]
  },
  {
   "cell_type": "markdown",
   "metadata": {},
   "source": [
    "There are more operators, which you can read about [here](https://www.tutorialspoint.com/python/python_basic_operators.htm).\n",
    "\n",
    "### Strings, Lists and Indexing\n",
    "\n",
    "The data stored in memory can be of different types; Python has five: **Numbers** and **Strings**, which we have encountered above, and also **List**, which we will touch upon below. (We won't have time to cover the [**Tuple**](https://www.tutorialspoint.com/python/python_tuples.htm) and [**Dictionary**](https://www.tutorialspoint.com/python/python_dictionary.htm) types.)\n",
    "\n",
    "You can check the data types in your notebook:"
   ]
  },
  {
   "cell_type": "code",
   "execution_count": 6,
   "metadata": {},
   "outputs": [
    {
     "data": {
      "text/plain": [
       "str"
      ]
     },
     "execution_count": 6,
     "metadata": {},
     "output_type": "execute_result"
    }
   ],
   "source": [
    "type(number_of_hands) # Number\n",
    "type(fingers_per_hand)\n",
    "type(some_text) # String"
   ]
  },
  {
   "cell_type": "markdown",
   "metadata": {},
   "source": [
    "**Strings** in Python are a set of characters represented by the quotation marks. Python allows either a pair of single or double quotes.\n",
    "\n",
    "**Lists** are the most versatile data types in Python. A list contains items separated by commas and enclosed in square brackets `[ ... ]`. In Python, all the items belonging to a list can be of different data type.\n",
    "\n",
    "The values stored in a list can be accessed using the slice operator ([] and [:]) with indexes **starting at 0 at the beginning of the list**. The last point is a popular stumbling block, so beware!\n",
    "\n",
    "The plus (+) sign is the list concatenation operator, and the asterisk (\\*) is the repetition operator."
   ]
  },
  {
   "cell_type": "code",
   "execution_count": 7,
   "metadata": {},
   "outputs": [
    {
     "ename": "SyntaxError",
     "evalue": "Missing parentheses in call to 'print' (<ipython-input-7-ea35d0975067>, line 4)",
     "output_type": "error",
     "traceback": [
      "\u001b[0;36m  File \u001b[0;32m\"<ipython-input-7-ea35d0975067>\"\u001b[0;36m, line \u001b[0;32m4\u001b[0m\n\u001b[0;31m    print list            # Prints complete list\u001b[0m\n\u001b[0m             ^\u001b[0m\n\u001b[0;31mSyntaxError\u001b[0m\u001b[0;31m:\u001b[0m Missing parentheses in call to 'print'\n"
     ]
    }
   ],
   "source": [
    "list = [ 'abc', 12 , 2.23, 'john', 70.2 ]\n",
    "tinylist = [123, 'john']\n",
    "\n",
    "print list            # Prints complete list\n",
    "print list[0]         # Prints first element of the list\n",
    "print list[1:3]       # Prints elements starting from 2nd till 3rd\n",
    "print list[2:]        # Prints elements starting from 3rd element\n",
    "print tinylist * 2    # Prints list two times\n",
    "print list + tinylist # Prints concatenated lists"
   ]
  },
  {
   "cell_type": "markdown",
   "metadata": {},
   "source": [
    "Later in this tutorial, we will make use of Lists for visualisig data.\n",
    "\n",
    "# Basic Python: User input\n",
    "\n",
    "Often it is necessary to give a program some new information while it is already running. In Python, this is achieved by using the `input()` function.\n",
    "\n",
    "Try the following out in your notebook:"
   ]
  },
  {
   "cell_type": "code",
   "execution_count": null,
   "metadata": {
    "collapsed": true
   },
   "outputs": [],
   "source": [
    "my_name = ''\n",
    "my_name = input('Please tell me your name! ')\n",
    "print('Hello, ' + my_name + ', nice to meet you.')"
   ]
  },
  {
   "cell_type": "markdown",
   "metadata": {},
   "source": [
    "# Basic Python: Computer Programs, Control Flow and Functions\n",
    "\n",
    "We have so far seen many small bits of software that fulfil one specific task at a time (like assigning a value to a variable, or accepting user input). In order to tackle more complex tasks, we need to combine many of these items into one larger computer program. Think of programs like cooking recipes: They are a sequence of statements (i.e., lines of code), to be executed by a very quick and accurate, but also adhere-to-the-letter type of cook (your Raspberry Pi).\n",
    "\n",
    "As programmers, we set up “paths” for the program to follow.\n",
    "\n",
    "One simple path is shown in the figure below. Can you tell the output of the program?\n",
    "\n",
    "<p align=\"center\">\n",
    "<img src=\"Flow1.png\" alt=\"pin\" width=\"90\">\n",
    "</p>\n",
    "\n",
    "* Sometimes you don't know upfront whether a piece of code should be executed by the time the program actually runs. We can control this using **conditional** statements.\n",
    "* Sometimes a step or group of steps are to be **repeated**.\n",
    "* Sometimes we store a set of related steps that will be used over and over again in different parts of the program (**functions**).\n",
    "\n",
    "## Controlling the flow of our program: Conditional statements\n",
    "\n",
    "Imagine this Hackspace troubleshooting guide. Could we build an electronic helpdesk from this? The answer is yes – if we make use of the `if` statement.\n",
    "\n",
    "<p align=\"center\">\n",
    "<img src=\"engineering-flow-chart.png\" alt=\"pin\" width=\"400\">\n",
    "</p>\n",
    "\n",
    "Let's focus on the top level of the diagram, \"Does it move?\". In Python, conditionals can be written using an `if` - `elif` - `else` clause. So we could write:"
   ]
  },
  {
   "cell_type": "code",
   "execution_count": null,
   "metadata": {
    "collapsed": true
   },
   "outputs": [],
   "source": [
    "answer = input(\"Does it move? Yes/No\")\n",
    "if answer == \"Yes\":\n",
    "    <duct tape code> # needs filling in\n",
    "elif answer == \"No\":\n",
    "    <WD40 code> # needs filling in\n",
    "else:\n",
    "    print(\"Error: Please answer Yes or No.\")"
   ]
  },
  {
   "cell_type": "markdown",
   "metadata": {},
   "source": [
    "You may notice two important things about Python programs here:\n",
    "1. **Code blocks that are executed inside an if/elif/else statement are indented with a tab. This is Python's way to group code into blocks.**\n",
    "2. **These code blocks start after a colon and end when the indentation stops.**"
   ]
  },
  {
   "cell_type": "markdown",
   "metadata": {},
   "source": [
    "## Repeatedly executing statements: Loops\n",
    "\n",
    "Often, we need an action to be repeated. One way to achieve this is to use a `while` loop:"
   ]
  },
  {
   "cell_type": "code",
   "execution_count": null,
   "metadata": {
    "collapsed": true
   },
   "outputs": [],
   "source": [
    "count = 0\n",
    "while (count < 9):\n",
    "   print 'The count is:', count\n",
    "   count = count + 1\n",
    "\n",
    "print \"Goodbye!\""
   ]
  },
  {
   "cell_type": "markdown",
   "metadata": {},
   "source": [
    "Every time the loop starts, the condition in the while statement (in this case, a check whether `count` is still less than `9`) is evaluated. If it is true, another iteration commences, if not, the loop exits.\n",
    "\n",
    "An alternative way to create repeating code is through a `for` loop. This is mostly used for looping through a list of items."
   ]
  },
  {
   "cell_type": "code",
   "execution_count": null,
   "metadata": {
    "collapsed": true
   },
   "outputs": [],
   "source": [
    "my_numbers = [1,2,3,4,5]\n",
    "for number in my_numbers:\n",
    "    print(number ** 2)"
   ]
  },
  {
   "cell_type": "markdown",
   "metadata": {},
   "source": [
    "This construct loops *through* the numbers 1 to 5 and prints their squares."
   ]
  },
  {
   "cell_type": "markdown",
   "metadata": {},
   "source": [
    "## Making blocks of code reusable: Functions\n",
    "\n",
    "Finally, **functions** enable you to \"recycle\" blocks of related code at different places in your program.\n",
    "\n",
    "A function is a block of organised, reusable code that is used to perform a single, related action. Functions provide better modularity for your application and a high degree of code reusing.\n",
    "\n",
    "Now, let's make a function that can be used in the for loop example."
   ]
  },
  {
   "cell_type": "code",
   "execution_count": null,
   "metadata": {
    "collapsed": true
   },
   "outputs": [],
   "source": [
    "# Area of a circle = pi * r**2\n",
    "\n",
    "# Import a maths library for accessing the value of Pi\n",
    "import numpy as np\n",
    "\n",
    "# A function to calculate the area of a circle from its radius\n",
    "def area_circle(radius):\n",
    "    'Function that calculates the area of a circle'\n",
    "    area = np.pi * radius ** 2\n",
    "    return area\n",
    "\n",
    "radii = [1, 2, 3, 4, 5, 6]\n",
    "\n",
    "for radius in radii:\n",
    "    area = area_circle(radius)\n",
    "    print(\"The area of a circle of radius \" + radius +\n",
    "    \" cm is \" + area + \" cm^2.\"\n",
    "print \"Done.\""
   ]
  },
  {
   "cell_type": "markdown",
   "metadata": {},
   "source": [
    "Note how we have *defined* a function using the keyword `def`, followed by the name of the function and any **arguments** that we want to pass to it in round brackets. We then re-used this function to calculate the area of different circles."
   ]
  },
  {
   "cell_type": "markdown",
   "metadata": {},
   "source": [
    "# Physical Computing: Python and Raspberry Pi GPIO\n",
    "\n",
    "A big part of this hackathon will revolve around using Raspberry Pi as an interface between computer programs and the external world. To this end, we have attached a special circuit to the RPi GPIO pins: The [Adafruit DC+Stepper Motor HAT](https://learn.adafruit.com/adafruit-dc-and-stepper-motor-hat-for-raspberry-pi/overview). This circuit allows us to drive up to four DC motors or 2 stepper motors from within Python. It even comes with its own power supply in order to provide the motors with a reliable source of power, and protect the Pi from breaking due to the motors.\n",
    "\n",
    "Please note that unless you have already tinkered around with the electronics (or we have changed our minds at last minute), the electrical wiring between the Pi, HAT and the motors should already be in place.\n",
    "\n",
    "Roughly one half of you will have round DC motors connected to your HATs. The other half will have square stepper motors connected. The DC motors need 2 wires, whilst the steppers are connected with four wires.\n",
    "\n",
    "Make sure to see both in action!\n",
    "\n",
    "## Driving a DC motor\n",
    "\n",
    "Copy the following into your notebook."
   ]
  },
  {
   "cell_type": "code",
   "execution_count": null,
   "metadata": {
    "collapsed": true
   },
   "outputs": [],
   "source": [
    "# import only what we need from the Adafruit_MotorHAT library\n",
    "from Adafruit_MotorHAT import Adafruit_MotorHAT, Adafruit_DCMotor\n",
    "\n",
    "import time\n",
    "import atexit\n",
    "\n",
    "# Create a variable called mh to refer to the HAT\n",
    "# We use this to control the HAT\n",
    "mh = Adafruit_MotorHAT(addr=0x60)\n",
    "\n",
    "# recommended for auto-disabling motors on shutdown!\n",
    "def turnOffMotors():\n",
    "    mh.getMotor(1).run(Adafruit_MotorHAT.RELEASE)\n",
    "    mh.getMotor(2).run(Adafruit_MotorHAT.RELEASE)\n",
    "    mh.getMotor(3).run(Adafruit_MotorHAT.RELEASE)\n",
    "    mh.getMotor(4).run(Adafruit_MotorHAT.RELEASE)\n",
    "\n",
    "atexit.register(turnOffMotors)\n",
    "\n",
    "# ensure the motor is connected to the M3 terminal\n",
    "myMotor = mh.getMotor(3)\n",
    "\n",
    "# set the speed to start, from 0 (off) to 255 (max speed)\n",
    "myMotor.setSpeed(150)\n",
    "# activate the motor at the chosen speed\n",
    "myMotor.run(Adafruit_MotorHAT.FORWARD);\n",
    "# wait for a bit\n",
    "time.sleep(1.5)\n",
    "# turn the motor off\n",
    "myMotor.run(Adafruit_MotorHAT.RELEASE);"
   ]
  },
  {
   "cell_type": "markdown",
   "metadata": {},
   "source": [
    "First, this code creates a variable `mh` to represent the HAT in the program. This variable will be used to control the motor. We then define a fallback function `turnOffMotors`, which should be called when the program exits unexpectedly and attempts to switch all possible motors (four in total) off. `myMotor` is a variable to represent the motor connected to the third terminal (labelled M3 on your HATs, make sure there is an actual motor connected to this terminal!). We use this to set the motor's speed to a medium value and kick it into `FORWARD` rotation. We wait for 1.5 seconds whilst it turns and then stop it by calling the `run` function with a `RELEASE` argument.\n",
    "\n",
    "## Driving a Stepper motor\n",
    "\n",
    "Stepper motors allow the motor to rotate by a prescribed amount (this is called stepping). The electrical setup is slightly more involved for this type of motor, and shown in the below figure.\n",
    "\n",
    "<p align=\"center\">\n",
    "<img src=\"StepperConnection.jpg\" alt=\"HAT / Stepper Motor setup\" width=\"100%\">\n",
    "</p>\n",
    "\n",
    "Make sure that your sequence of red, green, yellow and blue wires matches the picture.\n",
    "\n",
    "Copy the below code into your notebook to drive the stepper motor if you have one connected to your board."
   ]
  },
  {
   "cell_type": "code",
   "execution_count": null,
   "metadata": {
    "collapsed": true
   },
   "outputs": [],
   "source": [
    "from Adafruit_MotorHAT import Adafruit_MotorHAT, Adafruit_DCMotor, Adafruit_StepperMotor\n",
    "\n",
    "import time\n",
    "import atexit\n",
    "\n",
    "# create a MotorHAT object\n",
    "mh = Adafruit_MotorHAT(addr=0x60)\n",
    "\n",
    "# recommended for auto-disabling motors on shutdown!\n",
    "def turnOffMotors():\n",
    "    mh.getMotor(1).run(Adafruit_MotorHAT.RELEASE)\n",
    "    mh.getMotor(2).run(Adafruit_MotorHAT.RELEASE)\n",
    "    mh.getMotor(3).run(Adafruit_MotorHAT.RELEASE)\n",
    "    mh.getMotor(4).run(Adafruit_MotorHAT.RELEASE)\n",
    "\n",
    "atexit.register(turnOffMotors)\n",
    "\n",
    "myStepper = mh.getStepper(200, 1)  # 200 steps/rev, motor port #1\n",
    "myStepper.setSpeed(30)             # 30 RPM\n",
    "\n",
    "while (True):\n",
    "    print(\"Single coil steps\")\n",
    "    myStepper.step(100, Adafruit_MotorHAT.FORWARD,  Adafruit_MotorHAT.SINGLE)\n",
    "    myStepper.step(100, Adafruit_MotorHAT.BACKWARD, Adafruit_MotorHAT.SINGLE)\n",
    "\n",
    "    print(\"Double coil steps\")\n",
    "    myStepper.step(100, Adafruit_MotorHAT.FORWARD,  Adafruit_MotorHAT.DOUBLE)\n",
    "    myStepper.step(100, Adafruit_MotorHAT.BACKWARD, Adafruit_MotorHAT.DOUBLE)\n",
    "\n",
    "    print(\"Interleaved coil steps\")\n",
    "    myStepper.step(100, Adafruit_MotorHAT.FORWARD,  Adafruit_MotorHAT.INTERLEAVE)\n",
    "    myStepper.step(100, Adafruit_MotorHAT.BACKWARD, Adafruit_MotorHAT.INTERLEAVE)\n",
    "\n",
    "    print(\"Microsteps\")\n",
    "    myStepper.step(100, Adafruit_MotorHAT.FORWARD,  Adafruit_MotorHAT.MICROSTEP)\n",
    "    myStepper.step(100, Adafruit_MotorHAT.BACKWARD, Adafruit_MotorHAT.MICROSTEP)"
   ]
  },
  {
   "cell_type": "markdown",
   "metadata": {},
   "source": [
    "The above program starts with the same shutdown precaution `turnOffMotors` as the DC motor program. We then create a `myStepper` variable that represents a stepper motor connected to the terminals M1 and M2 on the board.\n",
    "\n",
    "Stepper motors come in many different configurations. Notably, different motors accommodate a different number of steps to complete one 360-degree rotation. So we have to tell the program how many steps make up one complete rotation. In our case, it is 200 steps. Having done this, we are able to set an absolute number of rotations per minute using the `setSpeed` function.\n",
    "\n",
    "The following loop cycles through different ways to drive the motor. Stepping is always done using `myStepper`'s `step` function and we can step any number of steps `FORWARD` or `BACKWARD`.\n",
    "\n",
    "## Other interesting applications\n",
    "\n",
    "You can also use the Raspberry Pi GPIO library directly to drive an LED, for example. Connect the negative LED terminal to ground, and the positive terminal to BCM pin 18 through a 330Ω resistor. Then run:"
   ]
  },
  {
   "cell_type": "code",
   "execution_count": null,
   "metadata": {
    "collapsed": true
   },
   "outputs": [],
   "source": [
    "import RPi.GPIO as GPIO\n",
    "import time\n",
    "\n",
    "GPIO.setmode(GPIO.BCM)\n",
    "GPIO.setwarnings(False)\n",
    "GPIO.setup(18,GPIO.OUT)\n",
    "print \"LED on\"\n",
    "GPIO.output(18,GPIO.HIGH)\n",
    "time.sleep(1)\n",
    "print \"LED off\"\n",
    "GPIO.output(18,GPIO.LOW)"
   ]
  },
  {
   "cell_type": "markdown",
   "metadata": {},
   "source": [
    "You can read more about this [here](https://thepihut.com/blogs/raspberry-pi-tutorials/27968772-turning-on-an-led-with-your-raspberry-pis-gpio-pins)."
   ]
  },
  {
   "cell_type": "markdown",
   "metadata": {},
   "source": [
    "# Saying more than 1000 words: Plotting data in Python and Jupyter\n",
    "\n",
    "Now that you have an idea of Raspberry Pi, Python, and how to use them for controlling some hardware, how about visualising data? For example, you might want to plot locations in a coordinate system in order to track the path of a moving robot. Or you might want to analyse the stepping accuracy of your stepper motors by drawing a histogram.\n",
    "\n",
    "All of this is possible with the matplotlib library.\n",
    "\n",
    "## Line graphs\n",
    "\n",
    "We can use the `plot` command to plot line graphs"
   ]
  },
  {
   "cell_type": "code",
   "execution_count": null,
   "metadata": {
    "scrolled": false
   },
   "outputs": [],
   "source": [
    "import matplotlib.pyplot as plt # create a shorthand alias for the library\n",
    "plt.plot([1,2,3,7,8,13,15], [2,6,5,4,9,8,6],\"o-\")\n",
    "plt.xlabel(\"X position\")\n",
    "plt.ylabel(\"Y position\")"
   ]
  },
  {
   "cell_type": "markdown",
   "metadata": {},
   "source": [
    "Essentially, we \"feed\" `plot` a list of `x` values and a list of `y` values and these are interpreted as points along the line. The plot command is documented [on matplotlib.org](http://matplotlib.org/api/pyplot_api.html#matplotlib.pyplot.plot).\n",
    "\n",
    "## Scatter graphs\n",
    "\n",
    "We can also use `plot` to plot scatter graphs. The only difference is that we omit the `-` from the format string to remove the lines."
   ]
  },
  {
   "cell_type": "code",
   "execution_count": null,
   "metadata": {},
   "outputs": [],
   "source": [
    "import matplotlib.pyplot as plt # create a shorthand alias for the library\n",
    "plt.plot([1,2,7,2,5,0,8,6], [2,6,5,4,9,8,6,3],\"o\")"
   ]
  },
  {
   "cell_type": "markdown",
   "metadata": {},
   "source": [
    "## Histograms\n",
    "\n",
    "If we want to analyse the frequency of event occurrences or similar, we can plot histograms, using:"
   ]
  },
  {
   "cell_type": "code",
   "execution_count": null,
   "metadata": {},
   "outputs": [],
   "source": [
    "import matplotlib.pyplot as plt\n",
    "plt.hist([1,1,2,3,4,5,5,6,6,6], normed=False, bins=[0.5,1.5,2.5,3.5,4.5,5.5,6.5])\n",
    "plt.ylabel('Frequency')"
   ]
  },
  {
   "cell_type": "markdown",
   "metadata": {},
   "source": [
    "The `bins` argument is useful to set the bin boundaries, as otherwise they can default to some unexpected values. See for yourself what happens when you set `normed=True`.\n",
    "\n",
    "# Conclusion\n",
    "\n",
    "This very terse tutorial should have given you an insight into several useful aspects of running Python programs on Raspberry Pis. The best next step is to start tinkering!"
   ]
  }
 ],
 "metadata": {
  "kernelspec": {
   "display_name": "Python 3",
   "language": "python",
   "name": "python3"
  },
  "language_info": {
   "codemirror_mode": {
    "name": "ipython",
    "version": 3
   },
   "file_extension": ".py",
   "mimetype": "text/x-python",
   "name": "python",
   "nbconvert_exporter": "python",
   "pygments_lexer": "ipython3",
   "version": "3.4.2"
  }
 },
 "nbformat": 4,
 "nbformat_minor": 2
}
